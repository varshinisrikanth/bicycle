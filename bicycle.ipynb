{
  "nbformat": 4,
  "nbformat_minor": 0,
  "metadata": {
    "colab": {
      "provenance": []
    },
    "kernelspec": {
      "name": "python3",
      "display_name": "Python 3"
    },
    "language_info": {
      "name": "python"
    }
  },
  "cells": [
    {
      "cell_type": "code",
      "execution_count": 1,
      "metadata": {
        "colab": {
          "base_uri": "https://localhost:8080/"
        },
        "id": "fD4D6zkWXAUo",
        "outputId": "5117f385-fd12-40f6-d81f-30e0e750ef06"
      },
      "outputs": [
        {
          "output_type": "stream",
          "name": "stdout",
          "text": [
            "Data from all pages has been scraped and saved to snapdeal_cycle.csv\n"
          ]
        }
      ],
      "source": [
        "import requests\n",
        "from bs4 import BeautifulSoup\n",
        "import csv\n",
        "\n",
        "base_url = \"https://www.snapdeal.com/products/sports-bicycles?sort=plrty&q=Seniority_s%3AAdult%7C#bcrumbLabelId:46102452\"\n",
        "num_pages = 10\n",
        "all_product_data = []\n",
        "total_items_scraped = 0\n",
        "\n",
        "for page in range(1, num_pages + 1):\n",
        "    url = base_url + str(page)\n",
        "\n",
        "    response = requests.get(url)\n",
        "\n",
        "    if response.status_code == 200:\n",
        "        soup = BeautifulSoup(response.text, 'html.parser')\n",
        "\n",
        "        product_listings = soup.find_all('div', class_='product-tuple-description')\n",
        "        page_product_data = []\n",
        "        for product in product_listings:\n",
        "            product_name_tag = product.find('p', class_='product-title')\n",
        "            product_name = product_name_tag.get('title') if product_name_tag else 'N/A'\n",
        "\n",
        "            brand_name = product_name.split(' ', 1)[0]\n",
        "\n",
        "            original_price_tag = product.find('span', class_='lfloat product-desc-price strike')\n",
        "            discounted_price_tag = product.find('span', class_='lfloat product-price')\n",
        "\n",
        "            original_price = original_price_tag.text.strip() if original_price_tag else 'N/A'\n",
        "            discounted_price = discounted_price_tag.text.strip() if discounted_price_tag else 'N/A'\n",
        "\n",
        "            original_price = original_price.split(' ', 1)[1].replace(',', '').strip() if original_price != 'N/A' else 'N/A'\n",
        "            discounted_price = discounted_price.split(' ', 1)[1].replace(',', '').strip() if discounted_price != 'N/A' else 'N/A'\n",
        "\n",
        "            original_price = float(original_price) if original_price != 'N/A' else 0\n",
        "            discounted_price = float(discounted_price) if discounted_price != 'N/A' else 0\n",
        "\n",
        "            percentage_discount = ((original_price - discounted_price) / original_price) * 100\n",
        "\n",
        "            page_product_data.append([brand_name, product_name, original_price, discounted_price, percentage_discount])\n",
        "\n",
        "        items_on_page = len(page_product_data)\n",
        "        total_items_scraped += items_on_page\n",
        "\n",
        "        all_product_data.extend(page_product_data)\n",
        "\n",
        "    else:\n",
        "        print(f\"Failed to retrieve page {page}. Status code:\", response.status_code)\n",
        "\n",
        "with open('snapdeal_cycle.csv', 'w', newline='') as csvfile:\n",
        "    csv_writer = csv.writer(csvfile)\n",
        "    csv_writer.writerow(['Brand Name', 'Product Name', 'Original Price', 'Discounted Price', 'Percentage Discount'])\n",
        "    csv_writer.writerows(all_product_data)\n",
        "\n",
        "print(\"Data from all pages has been scraped and saved to snapdeal_cycle.csv\")"
      ]
    }
  ]
}